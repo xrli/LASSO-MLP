{
 "cells": [
  {
   "cell_type": "code",
   "execution_count": 1,
   "metadata": {},
   "outputs": [],
   "source": [
    "import pandas as pd\n",
    "import numpy as np\n",
    "from sklearn.model_selection import train_test_split\n",
    "from sklearn.neural_network import MLPRegressor\n",
    "from sklearn.metrics import mean_absolute_error\n",
    "from sklearn.preprocessing import StandardScaler"
   ]
  },
  {
   "cell_type": "code",
   "execution_count": 2,
   "metadata": {},
   "outputs": [],
   "source": [
    "data = np.load('./Preprocessed_spectra.npy')\n",
    "label = pd.read_csv(\"./LAMOST_APOGEE.csv\")"
   ]
  },
  {
   "cell_type": "code",
   "execution_count": 3,
   "metadata": {},
   "outputs": [],
   "source": [
    "train_labe1 = label['Teff[K]']\n",
    "train_labe2 = label['Logg']\n",
    "train_labe3 = label['FeH']\n",
    "train_labe1 = np.log10(train_labe1)"
   ]
  },
  {
   "cell_type": "code",
   "execution_count": 4,
   "metadata": {},
   "outputs": [],
   "source": [
    "X_train, X_val, y_train, y_val = train_test_split(data,train_labe1, test_size=0.2, random_state=42)"
   ]
  },
  {
   "cell_type": "code",
   "execution_count": 5,
   "metadata": {},
   "outputs": [],
   "source": [
    "sc=StandardScaler()\n",
    "target_sc = sc.fit(X_train)\n",
    "X_train_std=target_sc.transform(X_train)\n",
    "X_val_std=target_sc.transform(X_val)\n",
    "#Standardize features \n",
    "\n",
    "from sklearn.linear_model import Lasso,LassoCV,LassoLarsCV \n",
    "clf = Lasso(alpha = 0.0003,max_iter=10000,tol=0.00001)\n",
    "#LASSO for teff\n",
    "clf.fit(X_train_std,y_train)\n",
    "mask = clf.coef_ != 0\n",
    "X_1 = X_train_std[:,mask]\n",
    "X_2 = X_val_std[:,mask]"
   ]
  },
  {
   "cell_type": "code",
   "execution_count": 6,
   "metadata": {
    "scrolled": true
   },
   "outputs": [],
   "source": [
    "clf2 = MLPRegressor(hidden_layer_sizes=(80,80,40),activation='tanh',solver='lbfgs',  alpha=0.2, batch_size=60,\n",
    "                         learning_rate='adaptive', learning_rate_init=0.001, power_t=0.001\n",
    "        , max_iter=10000, shuffle=True,\n",
    "                         random_state=42, tol=0.000001, verbose=True, warm_start=True, nesterovs_momentum=True,\n",
    "                         early_stopping=True,beta_1=0.99, beta_2=0.99, epsilon=1e-7)\n",
    "#MLP for teff\n",
    "clf2.fit(X_1, y_train),\n",
    "\n",
    "y_pred2 = clf2.predict(X_2)"
   ]
  },
  {
   "cell_type": "code",
   "execution_count": 7,
   "metadata": {},
   "outputs": [
    {
     "name": "stdout",
     "output_type": "stream",
     "text": [
      "84.32583367100601\n",
      "0.20584463408454118\n",
      "164.89734805273315\n"
     ]
    }
   ],
   "source": [
    "print(mean_absolute_error (10 ** y_val, 10 ** y_pred2))\n",
    "x1 = 10 ** y_pred2 - 10 ** y_val\n",
    "mu =np.mean(x1)\n",
    "sigma =np.std(x1) \n",
    "print(mu)\n",
    "print(sigma)"
   ]
  },
  {
   "cell_type": "code",
   "execution_count": 8,
   "metadata": {},
   "outputs": [],
   "source": [
    "X_train, X_val, y_train, y_val = train_test_split(data,train_labe2, test_size=0.2, random_state=42)"
   ]
  },
  {
   "cell_type": "code",
   "execution_count": 9,
   "metadata": {},
   "outputs": [],
   "source": [
    "sc=StandardScaler()\n",
    "sc.fit(X_train)\n",
    "X_train_std=sc.transform(X_train)\n",
    "X_val_std=sc.transform(X_val)\n",
    "#Standardize features \n",
    "\n",
    "from sklearn.linear_model import Lasso,LassoCV,LassoLarsCV \n",
    "clf = Lasso(alpha=0.005,max_iter=10000)\n",
    "#LASSO for logg\n",
    "clf.fit(X_train_std,y_train)\n",
    "mask = clf.coef_ != 0\n",
    "X_1 = X_train_std[:,mask]\n",
    "\n",
    "X_2 = X_val_std[:,mask]"
   ]
  },
  {
   "cell_type": "code",
   "execution_count": 10,
   "metadata": {},
   "outputs": [],
   "source": [
    "model_mlp = MLPRegressor(hidden_layer_sizes=(180,150,120,80,80,60,60,40,20),activation='relu',solver='adam', alpha=0.1, batch_size=100,\n",
    "                         learning_rate='adaptive', power_t=0.01, max_iter=10000, shuffle=True, learning_rate_init=0.004,\n",
    "                         random_state=42, tol=0.000001, verbose=False, warm_start=False, nesterovs_momentum=True,\n",
    "                         early_stopping=True,beta_1=0.99, beta_2=0.999, epsilon=1e-7)\n",
    "#MLP for logg\n",
    "model_mlp.fit(X_1,y_train)\n",
    "y_pred=model_mlp.predict(X_2)"
   ]
  },
  {
   "cell_type": "code",
   "execution_count": 11,
   "metadata": {},
   "outputs": [
    {
     "name": "stdout",
     "output_type": "stream",
     "text": [
      "MAE log g: 0.13762338194116217\n",
      "-0.0008436546161991341\n",
      "0.21777933590407758\n"
     ]
    }
   ],
   "source": [
    "print('MAE log g:', mean_absolute_error(y_pred,y_val))\n",
    "x1 = y_pred - y_val\n",
    "mu =np.mean(x1) \n",
    "sigma =np.std(x1) \n",
    "print(mu)\n",
    "print(sigma)"
   ]
  },
  {
   "cell_type": "code",
   "execution_count": 12,
   "metadata": {},
   "outputs": [],
   "source": [
    "X_train, X_val, y_train, y_val = train_test_split(data,train_labe3, test_size=0.2, random_state=42)"
   ]
  },
  {
   "cell_type": "code",
   "execution_count": 13,
   "metadata": {},
   "outputs": [],
   "source": [
    "sc=StandardScaler()\n",
    "sc.fit(X_train)\n",
    "X_train_std=sc.transform(X_train)\n",
    "X_val_std=sc.transform(X_val)\n",
    "#Standardize features \n",
    "\n",
    "from sklearn.linear_model import Lasso,LassoCV,LassoLarsCV \n",
    "clf = Lasso(alpha=0.001,max_iter=10000)\n",
    "#LASSO for feh\n",
    "clf.fit(X_train_std,y_train)\n",
    "mask = clf.coef_ != 0\n",
    "X_1 = X_train_std[:,mask]\n",
    "X_2 = X_val_std[:,mask]"
   ]
  },
  {
   "cell_type": "code",
   "execution_count": 14,
   "metadata": {},
   "outputs": [],
   "source": [
    "model_mlp= MLPRegressor(hidden_layer_sizes=(300,200,100,80,80,40,40,20),activation='tanh',solver='lbfgs', alpha=0.1, batch_size=80,\n",
    "                         learning_rate='constant', power_t=0.001, max_iter=10000, shuffle=True,\n",
    "                         random_state=42, tol=0.0001, verbose=False, warm_start=False, nesterovs_momentum=True,\n",
    "                         early_stopping=True,beta_1=0.999, beta_2=0.999, epsilon=1e-6)\n",
    "# MLP for feh\n",
    "model_mlp.fit(X_1,y_train)\n",
    "y_pred=model_mlp.predict(X_2)"
   ]
  },
  {
   "cell_type": "code",
   "execution_count": 15,
   "metadata": {},
   "outputs": [
    {
     "name": "stdout",
     "output_type": "stream",
     "text": [
      "MAE feh: 0.06398025886725621\n",
      "-0.0003524226257866421\n",
      "0.0958718917214544\n"
     ]
    }
   ],
   "source": [
    "print('MAE feh:', mean_absolute_error(y_pred,y_val))\n",
    "x1 = y_pred - y_val\n",
    "mu =np.mean(x1)\n",
    "sigma =np.std(x1) \n",
    "print(mu)\n",
    "print(sigma)"
   ]
  },
  {
   "cell_type": "code",
   "execution_count": null,
   "metadata": {},
   "outputs": [],
   "source": []
  },
  {
   "cell_type": "code",
   "execution_count": null,
   "metadata": {},
   "outputs": [],
   "source": []
  },
  {
   "cell_type": "code",
   "execution_count": null,
   "metadata": {},
   "outputs": [],
   "source": []
  },
  {
   "cell_type": "code",
   "execution_count": null,
   "metadata": {},
   "outputs": [],
   "source": []
  }
 ],
 "metadata": {
  "kernelspec": {
   "display_name": "Python 3",
   "language": "python",
   "name": "python3"
  },
  "language_info": {
   "codemirror_mode": {
    "name": "ipython",
    "version": 3
   },
   "file_extension": ".py",
   "mimetype": "text/x-python",
   "name": "python",
   "nbconvert_exporter": "python",
   "pygments_lexer": "ipython3",
   "version": "3.7.4"
  }
 },
 "nbformat": 4,
 "nbformat_minor": 2
}
